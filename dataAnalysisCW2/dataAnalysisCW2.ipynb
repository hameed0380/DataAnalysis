{
 "cells": [
  {
   "cell_type": "code",
   "execution_count": 226,
   "metadata": {},
   "outputs": [],
   "source": [
    "import random\n",
    "import matplotlib.pyplot as plt\n",
    "# YOU ARE NOT ALLOWED TO IMPORT ANY OTHER LIBRARY PACKAGE"
   ]
  },
  {
   "cell_type": "markdown",
   "metadata": {
    "tags": []
   },
   "source": [
    "# Theory Part (40 Marks)"
   ]
  },
  {
   "cell_type": "markdown",
   "metadata": {},
   "source": [
    "Write your solution to Question 1 here. (Double-click this cell, then edit.)"
   ]
  },
  {
   "cell_type": "markdown",
   "metadata": {},
   "source": [
    "##### Solution:\n",
    "\n",
    "λ\n",
    "◦ = [0, −1, 1, 0]\n",
    "λ\n",
    "h = [[−1, 1, 0], [1, 0, −1], [0, 1, −1]]\n",
    "\n",
    "x = [−1, 1]\n",
    "\n",
    "\n",
    "We choose sigmoid functions, which give the probability that the test label is true, for binary classification. We obtain 0.5 by applying the sigmoid function to the output s(0).\n",
    "\n",
    "For z(h, 1) = -2  |  z(h, 2) = 0 |   z(h, 3) = -2\n",
    "    \n",
    "    \n",
    "    z(o) = 0\n",
    "    \n",
    "So the probability that the label is yes would be 0.5\n",
    "\n"
   ]
  },
  {
   "cell_type": "markdown",
   "metadata": {},
   "source": [
    "Write your solution to Question 2 here."
   ]
  },
  {
   "cell_type": "markdown",
   "metadata": {},
   "source": [
    "##### Solution:\n",
    "\n",
    "augmented model -> Xaug\n",
    "\n",
    "f(Xaug, λaug)\n",
    "\n",
    "The dimensionality of the augmented model above is 3d+1\n",
    "\n",
    "I believe the augmentation will affect the models flexibility causing it to increase resulting in the model becoming more complex then before.\n",
    "\n",
    "Comparing the model's bias to that of a standard linear regression model, it will be less biassed in other words bias will decrease. This is due to the fact that bias decreases and variance increases as the model's complexity i.e. flexibility increases. Since it begins to incorporate additional noise and is designed to generate accurate results for training data, the model tends to overfit. This is because noise affects the model.\n",
    "\n"
   ]
  },
  {
   "cell_type": "markdown",
   "metadata": {},
   "source": [
    "Write your solution to Question 3 here.\n",
    "##### Solution:\n",
    "\n",
    "\n",
    "The Optimal split is at 0.1 \n",
    "\n",
    "bin 1: (-0.1,1), (0.1,2) bin 2: (1.2,0), (2,1), (2.1,0)\n",
    "\n",
    "Ent(B1) = 0.69 | Ent(B2) = 0.63\n",
    "\n",
    "Ent(DataSet) = 1.05\n",
    "\n",
    "Information Gain = 0.4\n",
    "\n",
    "The prediciton of the test sample i.e. x = [1.1], based on this the split is 0\n",
    "\n",
    "So the Label of test sample is 0\n",
    "\n"
   ]
  },
  {
   "cell_type": "markdown",
   "metadata": {},
   "source": [
    "The following code snippet generates a random number, which is used as $p$ in Question 4(a)."
   ]
  },
  {
   "cell_type": "code",
   "execution_count": 227,
   "metadata": {},
   "outputs": [
    {
     "name": "stdout",
     "output_type": "stream",
     "text": [
      "The value of p you should use is 5919\n"
     ]
    }
   ],
   "source": [
    "print( \"The value of p you should use is\", random.randrange(2000,6001) )"
   ]
  },
  {
   "cell_type": "markdown",
   "metadata": {},
   "source": [
    "Write your solution to Question 4(a) here.\n",
    "\n",
    "How many attributes should be sampled? \n",
    "\n",
    "calculated with √(p) attributes sampled at each node"
   ]
  },
  {
   "cell_type": "markdown",
   "metadata": {},
   "source": [
    "Write your solution to Question 4(b) here.\n",
    "\n",
    "What is the formula for computing the probability that the datapoint is sampled in a BTS?\n",
    "Compute the probability to 4 decimal places for n = 500\n",
    "##### Solution:\n",
    "\n",
    "Since the datapoint is not sampled i.e. (1-1/n)^n\n",
    "so datapoint is sampled = 1-(1-1/n)^n\n",
    "\n",
    "Then sampling 2n and replacement:\n",
    "1-(1-1/2n)^2n = 0.3676954248\n",
    "dpi -> 0.3677\n",
    "\n",
    "= 0.3677\n"
   ]
  },
  {
   "cell_type": "markdown",
   "metadata": {},
   "source": [
    "Write your solution to Question 4(c) here.\n",
    "\n",
    "In KNN, boosting is not effective. This is because boosting will have an impact on the \n",
    "classification of the instance's neighbours, not the instance itself."
   ]
  },
  {
   "cell_type": "markdown",
   "metadata": {},
   "source": [
    "The following code snippet is for Question 5(a). It generates 8 random datapoints in $\\mathbb{R}^2$, and puts them into three clusters initially."
   ]
  },
  {
   "cell_type": "code",
   "execution_count": 228,
   "metadata": {},
   "outputs": [
    {
     "name": "stdout",
     "output_type": "stream",
     "text": [
      "(6, 13) is in Cluster 3\n",
      "(20, 1) is in Cluster 2\n",
      "(3, 20) is in Cluster 1\n",
      "(6, 17) is in Cluster 2\n",
      "(13, 3) is in Cluster 2\n",
      "(2, 19) is in Cluster 3\n",
      "(17, 1) is in Cluster 2\n"
     ]
    }
   ],
   "source": [
    "clusters = [1,2,2,2,2,3,3]\n",
    "random.shuffle(clusters)\n",
    "for i in range(7):\n",
    "    print( (random.randrange(0,21), random.randrange(0,21)), \"is in Cluster\", clusters[i] )\n"
   ]
  },
  {
   "cell_type": "markdown",
   "metadata": {},
   "source": [
    "Write your solution to Question 5(a) here.\n",
    "\n",
    "The code was re run by accident\n",
    "\n",
    "\n",
    "10,17,3\n",
    "\n",
    "8,12,3\n",
    "\n",
    "9,1,1\n",
    "\n",
    "14,11,3\n",
    "\n",
    "16,13,3\n",
    "\n",
    "5,5,2\n",
    "\n",
    "19,10,3\n",
    "\n",
    "cluster 1 = (9,1)\n",
    "\n",
    "cluster 2 = (5,5)\n",
    "\n",
    "Cluster 3 = (14,11), (8,12), (10,17), (14,11), (16,13), (19,10)\n",
    "\n",
    "\n",
    "\n",
    "\n",
    "##### Centroid values\n",
    "Cluster 1 = 9.000,1.000\n",
    "\n",
    "Cluster 2 = 5.000,5.000\n",
    "\n",
    "Cluster 3 = 13.400,12.600\n",
    "\n",
    "Clusters remained similar in both iterations except for minor change.\n"
   ]
  },
  {
   "cell_type": "markdown",
   "metadata": {},
   "source": [
    "Write your solution to Question 5(b) here.\n",
    "\n",
    "The general term for bias is a phenomenon that occurs when an algorithm produces results that are systemically prejudiced due to erroneous assumptions in the machine learning process In this when the model makes simplifying assumptions to make the target variable easier to approximate, it is biassed.\n",
    "\n",
    "Because the smallest distance between the nodes is used to obtain the clusters, biassed clusters are created. This has a cascading effect, which means that the farthest samples are also included in the same clusters because at any given point, a sample's nearest neighbour is the sample right next to it. As a result, at the end, one cluster contains two samples that may be on opposite sides of the graph. Making a very simplistic model, leaving out important information, and assuming the wrong things."
   ]
  },
  {
   "cell_type": "markdown",
   "metadata": {
    "tags": []
   },
   "source": [
    "# Practical Part (60 Marks)"
   ]
  },
  {
   "cell_type": "code",
   "execution_count": 261,
   "metadata": {},
   "outputs": [],
   "source": [
    "# Write your code for Task 1 here\n",
    "random.seed(924)\n",
    "datapoints = []\n",
    "for j in range(100):\n",
    "    datapoints.append([])\n",
    "    for i in range(3):\n",
    "        datapoints[j].append(random.uniform(-50, 50))      \n",
    "#print(datapoints)"
   ]
  },
  {
   "cell_type": "code",
   "execution_count": 262,
   "metadata": {},
   "outputs": [
    {
     "name": "stdout",
     "output_type": "stream",
     "text": [
      "[-10.023248452676135, -24.845024964791907, 12.880521314891212]\n",
      "2\n",
      "[17.197741355345855, -40.00410721729839, -44.59455029535444]\n"
     ]
    },
    {
     "data": {
      "text/plain": [
       "65.3770901575587"
      ]
     },
     "execution_count": 262,
     "metadata": {},
     "output_type": "execute_result"
    }
   ],
   "source": [
    "# Write your code for Task 2 here; you may use the following template\n",
    "def distance(point1, point2):\n",
    "    \n",
    "    # write the content of this function\n",
    "    # returns a number which is the Euclidean distance between the two points  \n",
    "    x = (point1[0]-point2[0])**2\n",
    "    y = (point1[1]-point2[1])**2\n",
    "    z = (point1[2]-point2[2])**2\n",
    "    sum = x+y+z\n",
    "    distance = pow(sum, 0.5)\n",
    "    return distance\n",
    "\n",
    "# Other Function more concise but not as effective led to more errors\n",
    "#     dis = 0.0\n",
    "#     # eliminate the class attribute\n",
    "#     for i in range(len(point1)):\n",
    "#         add = (float(point1[i]) - float(point2[i]))**2\n",
    "#         dis += add\n",
    "#     return dis**0.5\n",
    "   \n",
    "# test    \n",
    "point1 = datapoints[1]\n",
    "print(point1)\n",
    "print(len(point1)-1)\n",
    "point2 = datapoints[3]\n",
    "print(point2)\n",
    "distance(point1, point2)  "
   ]
  },
  {
   "cell_type": "code",
   "execution_count": 263,
   "metadata": {},
   "outputs": [],
   "source": [
    "# Write your code for Task 3 here; you may use the following template\n",
    "class Node:\n",
    "    def __init__(self, x):\n",
    "        # write the content of the constructor here; this constructor is used to initalize the single-point clusters in AHC\n",
    "        self.cluster = [x]\n",
    "        self.height = 0.0\n",
    "        self.leftChild = None\n",
    "        self.rightChild = None\n",
    "\n",
    "\n",
    "    # getter methods\n",
    "    def getCluster(self):\n",
    "        return self.cluster\n",
    "    \n",
    "    def getHeight(self):\n",
    "        return self.height\n",
    "    \n",
    "    def getleftChild(self):\n",
    "        return self.leftChild\n",
    "\n",
    "    def getrightChild(self):\n",
    "        return self.rightChild\n",
    "\n",
    "    # setter method\n",
    "    def setCluster(self, cluster):\n",
    "        self.cluster  = cluster\n",
    "\n",
    "    def setHeight(self, height):\n",
    "        self.height = height\n",
    "        \n",
    "    def setleftchild(self, leftChild):\n",
    "        self.leftChild = leftChild\n",
    "        \n",
    "    def setrightChild(self, rightChild):\n",
    "        self.rightChild = rightChild\n",
    "        \n",
    "        \n",
    "        \n",
    "        \n",
    "        \n",
    "        \n",
    "        \n",
    "# AHC = Node(cluster, 0)\n",
    "\n",
    "# initialise AHC\n",
    "currentClusters = []\n",
    "for n in range(len(datapoints)):\n",
    "    node = Node(datapoints[n])\n",
    "    currentClusters.append(node)\n",
    "    \n",
    "\n",
    "    \n",
    "    \n",
    "    \n",
    "# print(currentClusters)"
   ]
  },
  {
   "cell_type": "code",
   "execution_count": 264,
   "metadata": {},
   "outputs": [
    {
     "name": "stdout",
     "output_type": "stream",
     "text": [
      "39.10964442148971\n"
     ]
    }
   ],
   "source": [
    "# Write your code for Task 4 here; you may use the following template\n",
    "def singleLinkage(node1, node2):\n",
    "    # write the content of this function\n",
    "    # returns a number which is the single linkage between the two clusters in the two nodes\n",
    "    min_dis = distance(node1[0], node2[0])\n",
    "    for point1 in node1:\n",
    "        for point2 in node2:\n",
    "            dis = distance(point1, point2)\n",
    "            if dis < min_dis:\n",
    "                min_dis = dis\n",
    "    return min_dis\n",
    "    \n",
    "def completeLinkage(node1, node2):\n",
    "    # complete linkage\n",
    "    max_dis = 0.0\n",
    "    for point1 in node1:\n",
    "        for point2 in node2:\n",
    "            dis = distance(point1, point2)\n",
    "            if max_dis < dis:\n",
    "                max_dis = dis\n",
    "    return max_dis\n",
    "\n",
    "def averageLinkage(node1, node2):\n",
    "    # average linkage\n",
    "    avg = 0.0\n",
    "    iter = 0\n",
    "    for point1 in node1:\n",
    "        for point2 in node2:\n",
    "            avg += distance(point1, point2)\n",
    "            iter += 1\n",
    "    return avg / iter\n",
    "    \n",
    "def centroidLinkage(node1, node2):\n",
    "    # centroid linkage\n",
    "    \n",
    "    # Used node as it recognized node1 as a list\n",
    "    # getting cluster\n",
    "    v1 = node.getCluster()\n",
    "    v2 = node.getCluster()\n",
    "    \n",
    "    #print(v1)\n",
    "    # initividual clusters\n",
    "    v1x = 0\n",
    "    v1y = 0\n",
    "    v1z = 0\n",
    "    \n",
    "    v2x = 0\n",
    "    v2y = 0\n",
    "    v2z = 0\n",
    "    \n",
    "    # getting individual nodes\n",
    "    for  i in range(len(v1)):\n",
    "        v1x = v1[i][0]\n",
    "        v1y = v1[i][1]\n",
    "        v1z = v1[i][2]\n",
    "        \n",
    "     # getting individual nodes\n",
    "    for n in range(len(v2)):\n",
    "        v1x = v2[n][0]\n",
    "        v1y = v2[n][1]\n",
    "        v1z = v2[n][2]\n",
    "        \n",
    "    # get the centroid by getting the average \n",
    "    cntroid1 = [v1x / len(v1), v1y / len(v1), v1z /len(v1)]\n",
    "    cntroid2 = [v2x / len(v2), v2y / len(v2), v1z /len(v2)]\n",
    "    \n",
    "    return distance(cntroid1, cntroid2)\n",
    "\n",
    "print(centroidLinkage(currentClusters[0].getCluster(),currentClusters[1].getCluster()))           \n"
   ]
  },
  {
   "cell_type": "code",
   "execution_count": 265,
   "metadata": {
    "scrolled": true
   },
   "outputs": [
    {
     "data": {
      "text/plain": [
       "(99, 99, 3.561412460877211)"
      ]
     },
     "execution_count": 265,
     "metadata": {},
     "output_type": "execute_result"
    }
   ],
   "source": [
    "# Write your code for Task 5 here; you may use the following template\n",
    "def clustersToMerge(currentClusters, linkage): # when this function is used, linkage should be one of the four linkage functions you implemented for Task 4\n",
    "    # write the content of this function\n",
    "    # returns a tuple (i,j,h) which indicates that the i-th and j-th nodes should be merged next to form a new Node with height h\n",
    "    alg = linkage(currentClusters[0].getCluster(),currentClusters[1].getCluster())\n",
    "    h = 0.0\n",
    "    len_clusters = len(currentClusters)\n",
    "    for i in range(len(currentClusters)):\n",
    "        for j in range(i+1, len_clusters):\n",
    "            index = linkage(currentClusters[i].getCluster(),currentClusters[j].getCluster())\n",
    "            if index < alg:\n",
    "                alg = index\n",
    "                index1, index2 = i,j\n",
    "                h = alg\n",
    "            else:\n",
    "                continue\n",
    "        continue\n",
    "    return(i,j,h)\n",
    "\n",
    "clustersToMerge(currentClusters, singleLinkage)           \n",
    "\n"
   ]
  },
  {
   "cell_type": "code",
   "execution_count": 258,
   "metadata": {},
   "outputs": [],
   "source": [
    "# Write your code for Task 6 here; you may use the following template\n",
    "def ahc(datapoints, linkage):\n",
    "    # write the content of this function\n",
    "    # returns the root node of the AHC tree\n",
    "    rootnode = None\n",
    "    \n",
    "    for n in range(len(datapoints)):\n",
    "        node = Node(datapoints[n])\n",
    "        currentClusters.append(node)\n",
    "        \n",
    "    #print(currentClusters[4].getCluster())\n",
    "        \n",
    "    while (len(currentClusters)>1):\n",
    "        i,j,h = clustersToMerge(currentClusters,linkage)\n",
    "        #print(currentClusters[i].getCluster()) - testing\n",
    "        mergedClusters = currentClusters[i].getCluster() + currentClusters[j].getCluster()\n",
    "        #print(mergedClusters) - testing\n",
    "        newnode = Node(mergedClusters)\n",
    "        newnode.rightChild = currentClusters[j]\n",
    "        newnode.leftChild = currentClusters[i]\n",
    "        newnode.setHeight(h)\n",
    "        currentClusters.pop(i) \n",
    "        currentClusters.pop(j - 1)\n",
    "        currentClusters.append(newnode)\n",
    "        \n",
    "    rootnode = currentClusters\n",
    "    return rootnode\n",
    "        "
   ]
  },
  {
   "cell_type": "code",
   "execution_count": 1,
   "metadata": {},
   "outputs": [],
   "source": [
    "# Write your code for Task 7 here; you may use the following template\n",
    "def cutTree(rootNode, k):\n",
    "    # write the content of this function\n",
    "    # returns the k clusters obtained by cutting the AHC tree at an appropriate height\n",
    "    \n",
    "    return k \n",
    "\n",
    "# Write your code for generating the plots here"
   ]
  },
  {
   "cell_type": "markdown",
   "metadata": {},
   "source": [
    "Write your observations from Task 7 here."
   ]
  },
  {
   "cell_type": "code",
   "execution_count": null,
   "metadata": {},
   "outputs": [],
   "source": []
  }
 ],
 "metadata": {
  "kernelspec": {
   "display_name": "Python 3",
   "language": "python",
   "name": "python3"
  },
  "language_info": {
   "codemirror_mode": {
    "name": "ipython",
    "version": 3
   },
   "file_extension": ".py",
   "mimetype": "text/x-python",
   "name": "python",
   "nbconvert_exporter": "python",
   "pygments_lexer": "ipython3",
   "version": "3.8.5"
  }
 },
 "nbformat": 4,
 "nbformat_minor": 5
}
